{
 "cells": [
  {
   "cell_type": "markdown",
   "metadata": {},
   "source": [
    "# Python 数据类型\n"
   ]
  },
  {
   "cell_type": "markdown",
   "metadata": {},
   "source": [
    "\n",
    "| 类型| 例子|\n",
    "| -----  | ----- |\n",
    "| 整数 | `-100` |\n",
    "| 长整型 | `1000000000000L`\n",
    "| 布尔型 | `True, False`\n",
    "| 浮点数 | `3.1416` |\n",
    "| 字符串 | `'hello'` |\n",
    "| 列表 | `[1, 0.3, 'hello']` |\n",
    "| 元组 | `('hello', 10)`\n",
    "| 集合 | `{1, 2, 3}`\n",
    "| 字典 | `{'dogs': 5, 'pigs': 3}`|\n",
    "| Numpy数组 | `array([1, 2, 3])`\n",
    "| 自定义 | `Object Oriented Classes`"
   ]
  },
  {
   "cell_type": "code",
   "execution_count": 7,
   "metadata": {},
   "outputs": [
    {
     "data": {
      "text/plain": [
       "(list, tuple, set, dict)"
      ]
     },
     "execution_count": 7,
     "metadata": {},
     "output_type": "execute_result"
    }
   ],
   "source": [
    "type([1,2,3]),type(('hello',100)),type({'hello',100}),type({'hello':100})"
   ]
  },
  {
   "cell_type": "markdown",
   "metadata": {},
   "source": [
    "## 1、数字\n"
   ]
  },
  {
   "cell_type": "markdown",
   "metadata": {},
   "source": [
    "### 1.1、整数\n",
    "大小限制：在python 3中没有大小限制 <br>\n",
    "运算：加+，减-，乘*，幂指数**，除法/，整除//,取余%。<br>\n",
    "注意：在python2.7版本中/为整除，只能输出整数，但是在3.7及3.9版本中为除法，输出为float。<br>"
   ]
  },
  {
   "cell_type": "code",
   "execution_count": 10,
   "metadata": {},
   "outputs": [
    {
     "data": {
      "text/plain": [
       "(int, 2435692576896790347690546903469034586903658093456757689889)"
      ]
     },
     "execution_count": 10,
     "metadata": {},
     "output_type": "execute_result"
    }
   ],
   "source": [
    "a = 2435692576896790347690546903469034586903658093456757689889\n",
    "type(a),a"
   ]
  },
  {
   "cell_type": "code",
   "execution_count": 1,
   "metadata": {},
   "outputs": [
    {
     "data": {
      "text/plain": [
       "(16, 2.5, float, 1)"
      ]
     },
     "execution_count": 1,
     "metadata": {},
     "output_type": "execute_result"
    }
   ],
   "source": [
    "2**4,5/2,type(5/2),5%2 ##python 3.9.7"
   ]
  },
  {
   "cell_type": "code",
   "execution_count": 17,
   "metadata": {},
   "outputs": [
    {
     "data": {
      "text/plain": [
       "(16, 2.5, float, 2, int, 1)"
      ]
     },
     "execution_count": 17,
     "metadata": {},
     "output_type": "execute_result"
    }
   ],
   "source": [
    "2**4,5/2,type(5/2),5//2,type(5//2),5%2 ##python 3.7.8"
   ]
  },
  {
   "cell_type": "markdown",
   "metadata": {},
   "source": [
    "### 1.2、长整数\n",
    "python 3中取消了长整数类型，如果想了解python 2中的长整数，可以参考详细教程"
   ]
  },
  {
   "cell_type": "markdown",
   "metadata": {},
   "source": [
    "### 1.3、浮点数 float\n",
    "可以通过sys.float_info来查看浮点数的相关信息，其中包括绝对值最大和最小的浮点数。<br>\n",
    "浮点数的运算同C一致，不在详述。<br>\n",
    "注意：python中浮点数中不在有double类型。\n"
   ]
  },
  {
   "cell_type": "code",
   "execution_count": 3,
   "metadata": {},
   "outputs": [
    {
     "data": {
      "text/plain": [
       "sys.float_info(max=1.7976931348623157e+308, max_exp=1024, max_10_exp=308, min=2.2250738585072014e-308, min_exp=-1021, min_10_exp=-307, dig=15, mant_dig=53, epsilon=2.220446049250313e-16, radix=2, rounds=1)"
      ]
     },
     "execution_count": 3,
     "metadata": {},
     "output_type": "execute_result"
    }
   ],
   "source": [
    "import sys\n",
    "sys.float_info"
   ]
  },
  {
   "cell_type": "markdown",
   "metadata": {},
   "source": [
    "### 1.4、复数 Complex\n",
    "python使用j来表示复数的虚部，对应的运算有取虚实部和共轭。<br>"
   ]
  },
  {
   "cell_type": "code",
   "execution_count": 18,
   "metadata": {},
   "outputs": [
    {
     "data": {
      "text/plain": [
       "(complex, 1.0, 2.0, (1-2j))"
      ]
     },
     "execution_count": 18,
     "metadata": {},
     "output_type": "execute_result"
    }
   ],
   "source": [
    "a = 1 + 2j\n",
    "type(a),a.real,a.imag,a.conjugate()"
   ]
  },
  {
   "cell_type": "markdown",
   "metadata": {},
   "source": [
    "### 1.5 布尔型\n",
    "\n",
    "取值：True和False。<br>\n",
    "比较符号：<,>,>=,<=,==,!=。<br>\n",
    "支持链式比较，比如：1<2<3"
   ]
  },
  {
   "cell_type": "code",
   "execution_count": 36,
   "metadata": {},
   "outputs": [
    {
     "data": {
      "text/plain": [
       "(bool, False, True, True, True)"
      ]
     },
     "execution_count": 36,
     "metadata": {},
     "output_type": "execute_result"
    }
   ],
   "source": [
    "type(True), 1>2, 2>=1, 3!=1, 1<2<4"
   ]
  },
  {
   "cell_type": "markdown",
   "metadata": {},
   "source": [
    "### 1.6运算和基本函数\n"
   ]
  },
  {
   "cell_type": "markdown",
   "metadata": {},
   "source": [
    "运算优先级从高到低如下：<br>\n",
    "（1）（）括号<br>\n",
    "（2）**幂指数<br>\n",
    "（3）*乘，/除，//整除, %取余<br>\n",
    "（4）+-加减<br>\n",
    "注意：对于整除//，但参与运算的数中有浮点数，其输出为浮点数。<br>"
   ]
  },
  {
   "cell_type": "code",
   "execution_count": 16,
   "metadata": {},
   "outputs": [
    {
     "data": {
      "text/plain": [
       "(2, int, 2.0, float, 2.0, float)"
      ]
     },
     "execution_count": 16,
     "metadata": {},
     "output_type": "execute_result"
    }
   ],
   "source": [
    "5//2,type(5//2),5.1//2.1,type(5.1//2.1),5.1//2,type(5.1//2)"
   ]
  },
  {
   "cell_type": "markdown",
   "metadata": {},
   "source": [
    "原地运算：+=，-=，*=，/="
   ]
  },
  {
   "cell_type": "code",
   "execution_count": 32,
   "metadata": {},
   "outputs": [
    {
     "name": "stdout",
     "output_type": "stream",
     "text": [
      "3\n",
      "2\n",
      "4\n",
      "2.0\n"
     ]
    }
   ],
   "source": [
    "a = 2\n",
    "a += 1\n",
    "print(a)\n",
    "a -= 1\n",
    "print(a)\n",
    "a*=2\n",
    "print(a)\n",
    "a/=2\n",
    "print(a)"
   ]
  },
  {
   "cell_type": "markdown",
   "metadata": {},
   "source": [
    "基本函数有：绝对值abs()，最大最小值max(),min()，取整round(四舍五入)。<br>\n",
    "注意：在使用中要注意python的类型覆盖，不要使用内置函数来定义变量。"
   ]
  },
  {
   "cell_type": "code",
   "execution_count": 20,
   "metadata": {},
   "outputs": [
    {
     "data": {
      "text/plain": [
       "(2.23606797749979, 6, 1)"
      ]
     },
     "execution_count": 20,
     "metadata": {},
     "output_type": "execute_result"
    }
   ],
   "source": [
    "abs(1+2j),max([1,4,6,3]),round(1.4)"
   ]
  },
  {
   "cell_type": "code",
   "execution_count": 21,
   "metadata": {},
   "outputs": [
    {
     "ename": "TypeError",
     "evalue": "'int' object is not callable",
     "output_type": "error",
     "traceback": [
      "\u001b[1;31m---------------------------------------------------------------------------\u001b[0m",
      "\u001b[1;31mTypeError\u001b[0m                                 Traceback (most recent call last)",
      "\u001b[1;32m~\\AppData\\Local\\Temp\\ipykernel_4836\\1282855763.py\u001b[0m in \u001b[0;36m<module>\u001b[1;34m\u001b[0m\n\u001b[0;32m      1\u001b[0m \u001b[0mmax\u001b[0m \u001b[1;33m=\u001b[0m \u001b[1;36m2\u001b[0m\u001b[1;33m\u001b[0m\u001b[1;33m\u001b[0m\u001b[0m\n\u001b[1;32m----> 2\u001b[1;33m \u001b[0mmax\u001b[0m\u001b[1;33m(\u001b[0m\u001b[1;33m[\u001b[0m\u001b[1;36m1\u001b[0m\u001b[1;33m,\u001b[0m\u001b[1;36m3\u001b[0m\u001b[1;33m,\u001b[0m\u001b[1;36m2\u001b[0m\u001b[1;33m,\u001b[0m\u001b[1;36m4\u001b[0m\u001b[1;33m]\u001b[0m\u001b[1;33m)\u001b[0m\u001b[1;33m\u001b[0m\u001b[1;33m\u001b[0m\u001b[0m\n\u001b[0m",
      "\u001b[1;31mTypeError\u001b[0m: 'int' object is not callable"
     ]
    }
   ],
   "source": [
    "max = 2\n",
    "max([1,3,2,4])"
   ]
  },
  {
   "cell_type": "markdown",
   "metadata": {},
   "source": [
    "类型转化：int()只保留整数部分,float()"
   ]
  },
  {
   "cell_type": "code",
   "execution_count": 22,
   "metadata": {},
   "outputs": [
    {
     "data": {
      "text/plain": [
       "(3, 4.0)"
      ]
     },
     "execution_count": 22,
     "metadata": {},
     "output_type": "execute_result"
    }
   ],
   "source": [
    "int(3.5),float(4)"
   ]
  },
  {
   "cell_type": "markdown",
   "metadata": {},
   "source": [
    "### 1.7、其他表示\n",
    "\n",
    "科学计数法(1e-6)，16进制(0x前缀），8进制（0o前缀），2进制（0b前缀）。"
   ]
  },
  {
   "cell_type": "code",
   "execution_count": 23,
   "metadata": {},
   "outputs": [
    {
     "data": {
      "text/plain": [
       "(1e-06, 255, 55, 14)"
      ]
     },
     "execution_count": 23,
     "metadata": {},
     "output_type": "execute_result"
    }
   ],
   "source": [
    "1e-6,0xFF,0o67,0b1110"
   ]
  },
  {
   "cell_type": "markdown",
   "metadata": {},
   "source": [
    "## 2、字符串"
   ]
  },
  {
   "cell_type": "markdown",
   "metadata": {},
   "source": [
    "生成字符串：通过单引号''或者双引号\"\"来生成字符串。  \n",
    "字符串操作：  \n",
    "(1) 拼接（+），重复（数乘*）   \n",
    "(2) 分割split(): a.split(b)，以字符串b为界分割a  \n",
    "(3) 连接join(): a.split(b)，以字符串a来将字符串序列b中元素连接起来  \n",
    "(4) 替换replace(): a.replace(b,c)，将字符串a中的b都替换为c  \n",
    "(5) 大小写转化upper()、lower()  \n",
    "上述操作都不改变a中的值  \n",
    "更多方法可以使用dir()进行查询"
   ]
  },
  {
   "cell_type": "code",
   "execution_count": 46,
   "metadata": {},
   "outputs": [
    {
     "data": {
      "text/plain": [
       "('2errtdg gh',\n",
       " '2errt2errt2errt',\n",
       " ['dg', 'gh'],\n",
       " ['1', '5', '7', '9'],\n",
       " '1,5,7,9')"
      ]
     },
     "execution_count": 46,
     "metadata": {},
     "output_type": "execute_result"
    }
   ],
   "source": [
    "a = '2errt'\n",
    "b = \"dg gh\"\n",
    "c = '1,5,7,9'\n",
    "a+b,  a*3,  b.split(), c.split(',') ,c"
   ]
  },
  {
   "cell_type": "code",
   "execution_count": 45,
   "metadata": {},
   "outputs": [
    {
     "data": {
      "text/plain": [
       "('1 2 3 4', '2dyrt', '2ERRT', '2errt')"
      ]
     },
     "execution_count": 45,
     "metadata": {},
     "output_type": "execute_result"
    }
   ],
   "source": [
    "a = '2errt'\n",
    "b = ['1','2','3','4']\n",
    "c = '1,5,7,9'\n",
    "d = ' '\n",
    "d.join(b), a.replace('er','dy'), a.upper(),a"
   ]
  },
  {
   "cell_type": "code",
   "execution_count": 47,
   "metadata": {},
   "outputs": [
    {
     "data": {
      "text/plain": [
       "['__add__',\n",
       " '__class__',\n",
       " '__contains__',\n",
       " '__delattr__',\n",
       " '__dir__',\n",
       " '__doc__',\n",
       " '__eq__',\n",
       " '__format__',\n",
       " '__ge__',\n",
       " '__getattribute__',\n",
       " '__getitem__',\n",
       " '__getnewargs__',\n",
       " '__gt__',\n",
       " '__hash__',\n",
       " '__init__',\n",
       " '__init_subclass__',\n",
       " '__iter__',\n",
       " '__le__',\n",
       " '__len__',\n",
       " '__lt__',\n",
       " '__mod__',\n",
       " '__mul__',\n",
       " '__ne__',\n",
       " '__new__',\n",
       " '__reduce__',\n",
       " '__reduce_ex__',\n",
       " '__repr__',\n",
       " '__rmod__',\n",
       " '__rmul__',\n",
       " '__setattr__',\n",
       " '__sizeof__',\n",
       " '__str__',\n",
       " '__subclasshook__',\n",
       " 'capitalize',\n",
       " 'casefold',\n",
       " 'center',\n",
       " 'count',\n",
       " 'encode',\n",
       " 'endswith',\n",
       " 'expandtabs',\n",
       " 'find',\n",
       " 'format',\n",
       " 'format_map',\n",
       " 'index',\n",
       " 'isalnum',\n",
       " 'isalpha',\n",
       " 'isascii',\n",
       " 'isdecimal',\n",
       " 'isdigit',\n",
       " 'isidentifier',\n",
       " 'islower',\n",
       " 'isnumeric',\n",
       " 'isprintable',\n",
       " 'isspace',\n",
       " 'istitle',\n",
       " 'isupper',\n",
       " 'join',\n",
       " 'ljust',\n",
       " 'lower',\n",
       " 'lstrip',\n",
       " 'maketrans',\n",
       " 'partition',\n",
       " 'replace',\n",
       " 'rfind',\n",
       " 'rindex',\n",
       " 'rjust',\n",
       " 'rpartition',\n",
       " 'rsplit',\n",
       " 'rstrip',\n",
       " 'split',\n",
       " 'splitlines',\n",
       " 'startswith',\n",
       " 'strip',\n",
       " 'swapcase',\n",
       " 'title',\n",
       " 'translate',\n",
       " 'upper',\n",
       " 'zfill']"
      ]
     },
     "execution_count": 47,
     "metadata": {},
     "output_type": "execute_result"
    }
   ],
   "source": [
    "a = 'dfrg'\n",
    "dir(a)"
   ]
  },
  {
   "cell_type": "markdown",
   "metadata": {},
   "source": [
    "字符串转换：   \n",
    "str(a):将a转化为字符串  \n",
    "hex(a),oct(a),bin(a): 将整数a转化为16、8、2进制字符串  \n",
    "int(str,b):将字符串str转化为b进制整数  \n",
    "float(str):将字符串str转化为浮点数"
   ]
  },
  {
   "cell_type": "code",
   "execution_count": 48,
   "metadata": {},
   "outputs": [
    {
     "data": {
      "text/plain": [
       "('3.4', '0xea', 250, 5.78)"
      ]
     },
     "execution_count": 48,
     "metadata": {},
     "output_type": "execute_result"
    }
   ],
   "source": [
    "str(3.4), hex(234), int('FA',16), float('5.78')"
   ]
  },
  {
   "cell_type": "markdown",
   "metadata": {},
   "source": [
    "## 3、索引和切片"
   ]
  },
  {
   "cell_type": "markdown",
   "metadata": {},
   "source": [
    "索引：   \n",
    "对于一个有序序列，可以通过索引的方法来访问对应位置的值。字符串便是一个有序序列的例子，Python使用[]来对有序序列进行索引。   \n",
    "索引是从 0 开始的，索引 0 对应与序列的第 1个元素，当索引值大于最大值时，就会报错。   \n",
    "python中还有负索引值，其为从后向前计数。 "
   ]
  },
  {
   "cell_type": "code",
   "execution_count": 28,
   "metadata": {},
   "outputs": [
    {
     "name": "stdout",
     "output_type": "stream",
     "text": [
      "i j\n"
     ]
    }
   ],
   "source": [
    "str = 'abcdefghijk'\n",
    "print(str[8],str[-2])"
   ]
  },
  {
   "cell_type": "markdown",
   "metadata": {},
   "source": [
    "切片：  \n",
    "可以从序列中取出想要的子序列，其用法为：\n",
    "`var[lower:upper:step]`    \n",
    "其包括`lower`，不包括`upper`，`step`表示取值的步长。"
   ]
  },
  {
   "cell_type": "code",
   "execution_count": 32,
   "metadata": {},
   "outputs": [
    {
     "name": "stdout",
     "output_type": "stream",
     "text": [
      "abcd aceg\n"
     ]
    }
   ],
   "source": [
    "str = 'abcdefghijk'\n",
    "print(str[0:4],str[0:7:2])"
   ]
  },
  {
   "cell_type": "markdown",
   "metadata": {},
   "source": [
    "## 4、列表"
   ]
  },
  {
   "cell_type": "markdown",
   "metadata": {},
   "source": [
    "在Python中，列表是一个有序的序列。列表用一对 `[]` 生成，中间的元素用 `,` 隔开，其中的元素不需要是同一类型，同时列表的长度也不固定。也可以利用`list()`来生成空的列表"
   ]
  },
  {
   "cell_type": "code",
   "execution_count": 54,
   "metadata": {},
   "outputs": [
    {
     "data": {
      "text/plain": [
       "([1, 2.0, 'abc'], list, [])"
      ]
     },
     "execution_count": 54,
     "metadata": {},
     "output_type": "execute_result"
    }
   ],
   "source": [
    "a = [1,2.0,'abc']\n",
    "a, type(a), list()"
   ]
  },
  {
   "cell_type": "markdown",
   "metadata": {},
   "source": [
    "列表的操作，同字符串类似，如下：  \n",
    "(1)len():输出列表的长度   \n",
    "(2)拼接(+),重复(*)   "
   ]
  },
  {
   "cell_type": "code",
   "execution_count": 57,
   "metadata": {},
   "outputs": [
    {
     "data": {
      "text/plain": [
       "([1, 2, 4, 5], 4, [1, 2, 1, 2, 1, 2])"
      ]
     },
     "execution_count": 57,
     "metadata": {},
     "output_type": "execute_result"
    }
   ],
   "source": [
    "a = [1,2]\n",
    "b = [4,5]\n",
    "a+b,len(a+b),a*3"
   ]
  },
  {
   "cell_type": "markdown",
   "metadata": {},
   "source": [
    "(3)索引和分片:  \n",
    "连续分片，例如a[1:4]，可以对其进行修改，采用的整段替代的方法，元素数目可以不一致。  \n",
    "不连续分片，例如a[::2]，对其修改是，元素数目必须一致。 "
   ]
  },
  {
   "cell_type": "code",
   "execution_count": 72,
   "metadata": {},
   "outputs": [
    {
     "data": {
      "text/plain": [
       "(1, 8, [4, 5, 6], [1, 4, 7])"
      ]
     },
     "execution_count": 72,
     "metadata": {},
     "output_type": "execute_result"
    }
   ],
   "source": [
    "a = [1,2,3,4,5,6,7,8,9] \n",
    "a[0],a[7],a[3:6],a[::3]"
   ]
  },
  {
   "cell_type": "code",
   "execution_count": 74,
   "metadata": {},
   "outputs": [
    {
     "name": "stdout",
     "output_type": "stream",
     "text": [
      "[1, 2, 3, 4, 5, 'a', 'b', 'c', 'd', 8, 9]\n",
      "[1, 2, 3, 4, 5, 8, 9]\n"
     ]
    }
   ],
   "source": [
    "a = [1,2,3,4,5,6,7,8,9] \n",
    "a[5:7]=['a','b','c','d']\n",
    "print(a)\n",
    "a = [1,2,3,4,5,6,7,8,9] \n",
    "a[5:7]=[]\n",
    "print(a)\n"
   ]
  },
  {
   "cell_type": "markdown",
   "metadata": {},
   "source": [
    "(4)删除元素: del"
   ]
  },
  {
   "cell_type": "code",
   "execution_count": 76,
   "metadata": {},
   "outputs": [
    {
     "name": "stdout",
     "output_type": "stream",
     "text": [
      "[4, 5, 6, 7, 8, 9]\n",
      "[2, 3, 5, 6, 8, 9]\n"
     ]
    }
   ],
   "source": [
    "a = [1,2,3,4,5,6,7,8,9]\n",
    "del a[0:3]\n",
    "print(a)\n",
    "a = [1,2,3,4,5,6,7,8,9]\n",
    "del a[::3]\n",
    "print(a)"
   ]
  },
  {
   "cell_type": "markdown",
   "metadata": {},
   "source": [
    "\n",
    "(5)测试从属关系: in  \n",
    "(6)计数和索引:l.count(a) 返回列表l中a的个数；l.index(a)返回列表l中a第一次出现的索引位置，不存在会报错   \n",
    "(7)添加，插入和移除:   \n",
    "l.append(a) 在列表最后加入a，a如果是list，会作为整体被加入；    \n",
    "l.insert(idx,a) 在列表的idx索引处插入a  \n",
    "l.remove(a) 移除第一次出现的a，不存在会报错  \n",
    "(8)排序和反向: a.sort() 对a排序，但是改变a中的值；sorted()返回排序的索引，不改变原有值；reverse() 列表反向 "
   ]
  },
  {
   "cell_type": "code",
   "execution_count": 77,
   "metadata": {},
   "outputs": [
    {
     "data": {
      "text/plain": [
       "True"
      ]
     },
     "execution_count": 77,
     "metadata": {},
     "output_type": "execute_result"
    }
   ],
   "source": [
    "a = [1,2,3,4,5,6,7,8,9]\n",
    "3 in a"
   ]
  },
  {
   "cell_type": "code",
   "execution_count": 78,
   "metadata": {},
   "outputs": [
    {
     "data": {
      "text/plain": [
       "(1, 2)"
      ]
     },
     "execution_count": 78,
     "metadata": {},
     "output_type": "execute_result"
    }
   ],
   "source": [
    "a.count(3), a.index(3)"
   ]
  },
  {
   "cell_type": "code",
   "execution_count": 82,
   "metadata": {},
   "outputs": [
    {
     "name": "stdout",
     "output_type": "stream",
     "text": [
      "[1, 2, 3, 4, 5, 6, 7, 8, 9, 'b']\n",
      "[1, 2, 3, 4, 5, 6, 7, 8, 9, ['b', 'c']]\n",
      "[1, 2, 3, ['b', 'c'], 4, 5, 6, 7, 8, 9]\n",
      "[1, 2, 3, 4, 5, 6, 8, 9]\n"
     ]
    }
   ],
   "source": [
    "a = [1,2,3,4,5,6,7,8,9]\n",
    "a.append('b')\n",
    "print(a)\n",
    "\n",
    "a = [1,2,3,4,5,6,7,8,9]\n",
    "a.append(['b','c'])\n",
    "print(a)\n",
    "\n",
    "a = [1,2,3,4,5,6,7,8,9]\n",
    "a.insert(3,['b','c'])\n",
    "print(a)\n",
    "\n",
    "a = [1,2,3,4,5,6,7,8,9]\n",
    "a.remove(7)\n",
    "print(a)"
   ]
  },
  {
   "cell_type": "code",
   "execution_count": 85,
   "metadata": {},
   "outputs": [
    {
     "name": "stdout",
     "output_type": "stream",
     "text": [
      "[3, 5, 9, 59, 67, 93]\n"
     ]
    },
    {
     "data": {
      "text/plain": [
       "[3, 5, 9, 59, 67, 93]"
      ]
     },
     "execution_count": 85,
     "metadata": {},
     "output_type": "execute_result"
    }
   ],
   "source": [
    "a = [5,67,9,3,59,93]\n",
    "a.sort()\n",
    "print(a)\n",
    "\n",
    "a = [5,67,9,3,59,93]\n",
    "sorted(a)"
   ]
  },
  {
   "cell_type": "code",
   "execution_count": 87,
   "metadata": {},
   "outputs": [
    {
     "name": "stdout",
     "output_type": "stream",
     "text": [
      "[93, 59, 3, 9, 67, 5]\n"
     ]
    }
   ],
   "source": [
    "a = [5,67,9,3,59,93]\n",
    "a.reverse()\n",
    "print(a)"
   ]
  },
  {
   "cell_type": "markdown",
   "metadata": {},
   "source": [
    "## 5、元组"
   ]
  },
  {
   "cell_type": "markdown",
   "metadata": {},
   "source": [
    "与列表相似，元组也是个有序序列，可以索引和切片，但是其是不可变的，用()生成。   \n",
    "注意：在生成单元素数组时，应该写为(12,)。"
   ]
  },
  {
   "cell_type": "code",
   "execution_count": 3,
   "metadata": {},
   "outputs": [],
   "source": []
  },
  {
   "cell_type": "code",
   "execution_count": 2,
   "metadata": {},
   "outputs": [
    {
     "name": "stdout",
     "output_type": "stream",
     "text": [
      "1 (4, 6, 7) (1, 4, 7, 83)\n"
     ]
    }
   ],
   "source": [
    "t = (1,3,4,6,7,56,83,3)\n",
    "print(t[0],t[2:5],t[::2])"
   ]
  },
  {
   "cell_type": "code",
   "execution_count": 3,
   "metadata": {},
   "outputs": [
    {
     "name": "stdout",
     "output_type": "stream",
     "text": [
      "<class 'tuple'> <class 'int'>\n"
     ]
    }
   ],
   "source": [
    "print( type((12,)) , type((12)) )"
   ]
  },
  {
   "cell_type": "markdown",
   "metadata": {},
   "source": [
    "元组的计数函数count()和查找元素位置index()"
   ]
  },
  {
   "cell_type": "code",
   "execution_count": 4,
   "metadata": {},
   "outputs": [
    {
     "name": "stdout",
     "output_type": "stream",
     "text": [
      "2 5\n"
     ]
    }
   ],
   "source": [
    "t = (1,3,4,6,7,56,83,3)\n",
    "print(t.count(3),t.index(56))"
   ]
  },
  {
   "cell_type": "markdown",
   "metadata": {},
   "source": [
    "一般的，元组可以用来作为函数的多返回值，同时也可以用来对多变量进行赋值，如下："
   ]
  },
  {
   "cell_type": "code",
   "execution_count": 4,
   "metadata": {},
   "outputs": [
    {
     "name": "stdout",
     "output_type": "stream",
     "text": [
      "(1, 2, 3, 4) <class 'tuple'>\n",
      "<class 'tuple'>\n"
     ]
    }
   ],
   "source": [
    "w,x,y,z=1,2,3,4\n",
    "x = 1,2,3,4\n",
    "print(x,type(x))\n",
    "print(type((1,2,3,4)))"
   ]
  },
  {
   "cell_type": "markdown",
   "metadata": {},
   "source": [
    "为什么需要元组?  \n",
    "旧式字符串格式化中参数要用元组；  \n",
    "在字典中当作键值；  \n",
    "数据库的返回值……"
   ]
  },
  {
   "cell_type": "markdown",
   "metadata": {},
   "source": [
    "## 6、字典"
   ]
  },
  {
   "cell_type": "markdown",
   "metadata": {},
   "source": [
    "字典，是一种由键值对组成的数据结构。  \n",
    "顾名思义，我们把键想象成字典中的单词，值想象成词对应的定义，那么  \n",
    "一个词可以对应一个或者多个定义，但是这些定义只能通过这个词来进行查询。  "
   ]
  },
  {
   "cell_type": "markdown",
   "metadata": {},
   "source": [
    "### 基本操作  \n",
    "创建字典:可以通过{}或者dict()来创建空字典，同样也可以在创建时使用key：value这样的结构来初始化。"
   ]
  },
  {
   "cell_type": "code",
   "execution_count": 17,
   "metadata": {},
   "outputs": [
    {
     "name": "stdout",
     "output_type": "stream",
     "text": [
      "<class 'dict'> <class 'dict'> a1\n",
      "{1: 'b1', '2': 'b2'}\n",
      "b1\n"
     ]
    }
   ],
   "source": [
    "a = {}\n",
    "b = dict()\n",
    "c = {'1':'a1','2':'a2'}\n",
    "print(type(a),type(b),c['1'])\n",
    "b[1] = 'b1'\n",
    "b['2'] = 'b2'\n",
    "print(b)\n",
    "print(b[1])"
   ]
  },
  {
   "cell_type": "markdown",
   "metadata": {},
   "source": [
    "注意字典没有顺序，故若对字典a使用a[0]进行索引，并不是选取字典中的第一个元素，而是寻找键为0的值。   \n",
    "同时字典的键必须是不可变的类型，比如整数，字符串，元组等，而值可以是任意的python对象。这里注意一般不使用浮点数来作为键，因为其存在存储精度问题。  "
   ]
  },
  {
   "cell_type": "code",
   "execution_count": 19,
   "metadata": {},
   "outputs": [
    {
     "name": "stdout",
     "output_type": "stream",
     "text": [
      "{'color1': {'blue': 1, 'red': 2}, 'color2': {'white': 3, 'black': 4}}\n"
     ]
    }
   ],
   "source": [
    "a = {'blue':1,'red':2}\n",
    "b = {'white':3, 'black':4}\n",
    "c = {'color1':a,'color2':b}\n",
    "print(c)"
   ]
  },
  {
   "cell_type": "code",
   "execution_count": 22,
   "metadata": {},
   "outputs": [
    {
     "name": "stdout",
     "output_type": "stream",
     "text": [
      "c\n"
     ]
    },
    {
     "ename": "KeyError",
     "evalue": "3.3000000000000003",
     "output_type": "error",
     "traceback": [
      "\u001b[1;31m---------------------------------------------------------------------------\u001b[0m",
      "\u001b[1;31mKeyError\u001b[0m                                  Traceback (most recent call last)",
      "\u001b[1;32mC:\\Users\\LEI_ZH~1\\AppData\\Local\\Temp/ipykernel_9328/2632902933.py\u001b[0m in \u001b[0;36m<module>\u001b[1;34m\u001b[0m\n\u001b[0;32m      1\u001b[0m \u001b[0ma\u001b[0m \u001b[1;33m=\u001b[0m \u001b[1;33m{\u001b[0m\u001b[1;36m1.1\u001b[0m\u001b[1;33m:\u001b[0m\u001b[1;34m'a'\u001b[0m\u001b[1;33m,\u001b[0m\u001b[1;36m2.2\u001b[0m\u001b[1;33m:\u001b[0m\u001b[1;34m'b'\u001b[0m\u001b[1;33m,\u001b[0m\u001b[1;36m3.3\u001b[0m\u001b[1;33m:\u001b[0m\u001b[1;34m'c'\u001b[0m\u001b[1;33m}\u001b[0m\u001b[1;33m\u001b[0m\u001b[1;33m\u001b[0m\u001b[0m\n\u001b[0;32m      2\u001b[0m \u001b[0mprint\u001b[0m\u001b[1;33m(\u001b[0m\u001b[0ma\u001b[0m\u001b[1;33m[\u001b[0m\u001b[1;36m3.3\u001b[0m\u001b[1;33m]\u001b[0m\u001b[1;33m)\u001b[0m\u001b[1;33m\u001b[0m\u001b[1;33m\u001b[0m\u001b[0m\n\u001b[1;32m----> 3\u001b[1;33m \u001b[0mprint\u001b[0m\u001b[1;33m(\u001b[0m\u001b[0ma\u001b[0m\u001b[1;33m[\u001b[0m\u001b[1;36m2.2\u001b[0m\u001b[1;33m+\u001b[0m\u001b[1;36m1.1\u001b[0m\u001b[1;33m]\u001b[0m\u001b[1;33m)\u001b[0m\u001b[1;33m\u001b[0m\u001b[1;33m\u001b[0m\u001b[0m\n\u001b[0m",
      "\u001b[1;31mKeyError\u001b[0m: 3.3000000000000003"
     ]
    }
   ],
   "source": [
    "a = {1.1:'a',2.2:'b',3.3:'c'}\n",
    "print(a[3.3])\n",
    "print(a[2.2+1.1])"
   ]
  },
  {
   "cell_type": "markdown",
   "metadata": {},
   "source": [
    "### 字典方法\n",
    "取值：d.get(key)，相比于使用a[key]，其在字典中键不存在是不会报错，而是返回None。  \n",
    "删除元素：d.pop(key)，删除并返回键为key的键值对，如果没有返回None。同样可以使用del d[key]来进行删除。   \n",
    "更新字典：d.update(d'),将字典d'中元素更新到d中。   \n",
    "查询字典：a in d, 查询键a是否在字典d中。"
   ]
  },
  {
   "cell_type": "code",
   "execution_count": 26,
   "metadata": {},
   "outputs": [
    {
     "name": "stdout",
     "output_type": "stream",
     "text": [
      "1 None\n",
      "{'red': 2, 'white': 3, 'black': 4}\n",
      "{'red': 2, 'white': 3, 'black': 4, 'green': 5}\n",
      "False\n"
     ]
    }
   ],
   "source": [
    "d = {'blue':1,'red':2,'white':3, 'black':4}\n",
    "print(d.get('blue'),d.get('green'))\n",
    "d.pop('blue')\n",
    "print(d)\n",
    "d1 = {'green':5}\n",
    "d.update(d1)\n",
    "print(d)\n",
    "print('blue' in d)"
   ]
  },
  {
   "cell_type": "markdown",
   "metadata": {},
   "source": [
    "keys方法：d.keys(),返回所有键构成的列表。  \n",
    "values方法：d.values(),返回所有值构成的列表。   \n",
    "items方法：d.items(),返回所有键值对元组构成的列表。"
   ]
  },
  {
   "cell_type": "code",
   "execution_count": 27,
   "metadata": {},
   "outputs": [
    {
     "name": "stdout",
     "output_type": "stream",
     "text": [
      "dict_keys(['blue', 'red', 'white', 'black'])\n",
      "dict_values([1, 2, 3, 4])\n",
      "dict_items([('blue', 1), ('red', 2), ('white', 3), ('black', 4)])\n"
     ]
    }
   ],
   "source": [
    "d = {'blue':1,'red':2,'white':3, 'black':4}\n",
    "print(d.keys())\n",
    "print(d.values())\n",
    "print(d.items())"
   ]
  },
  {
   "cell_type": "markdown",
   "metadata": {},
   "source": [
    "## 7、集合"
   ]
  },
  {
   "cell_type": "markdown",
   "metadata": {},
   "source": [
    "集合set是一种无序的序列，故当其中有两个相同的元素，只会保留一个；并且为了保证其中不包含相同元素，放入集合中元素只能是确定性对象。  \n",
    "集合的生成可以通过{}或者set()进行创建，但是在创建空集合，只能通过set()创建，因为{}表示空字典。  "
   ]
  },
  {
   "cell_type": "code",
   "execution_count": 6,
   "metadata": {},
   "outputs": [
    {
     "name": "stdout",
     "output_type": "stream",
     "text": [
      "<class 'set'> <class 'dict'> {1, 2, 3} {1, 2, 3}\n"
     ]
    }
   ],
   "source": [
    "a = set()\n",
    "b = {}\n",
    "c = set([1,2,3,2]) ##自动去除相同的元素\n",
    "d = {1,2,3}\n",
    "print(type(a),type(b),c,d)"
   ]
  },
  {
   "cell_type": "markdown",
   "metadata": {},
   "source": [
    "集合操作：\n",
    "并：a.union(b) 或者 a|b\n",
    "交：a.intersection(b) 或者 a & b\n",
    "差：a.difference(b) 或者 a - b；在a中不在b中的元素\n",
    "对称差：a.symmetric_difference(b) 或者 a ^ b；在a或b中，但是不同时在a，b中的元素"
   ]
  },
  {
   "cell_type": "code",
   "execution_count": 7,
   "metadata": {},
   "outputs": [
    {
     "name": "stdout",
     "output_type": "stream",
     "text": [
      "{1, 2, 3, 4, 6, 7} {2, 3} {1, 4} {1, 4, 6, 7}\n"
     ]
    }
   ],
   "source": [
    "a = {1,2,3,4}\n",
    "b = {2,3,6,7}\n",
    "print(a|b,a&b,a-b,a^b)"
   ]
  },
  {
   "cell_type": "markdown",
   "metadata": {},
   "source": [
    "包含关系:  \n",
    "判断a是否是b的子集：a.issuperset(b) 或者 a<=b  \n",
    "判断a是否是b的真子集：a < b"
   ]
  },
  {
   "cell_type": "code",
   "execution_count": 8,
   "metadata": {},
   "outputs": [
    {
     "name": "stdout",
     "output_type": "stream",
     "text": [
      "True False\n"
     ]
    }
   ],
   "source": [
    "a  = {1,2}\n",
    "b = {1,2,3}\n",
    "print(a<=b,a<a)"
   ]
  },
  {
   "cell_type": "markdown",
   "metadata": {},
   "source": [
    "集合方法：  \n",
    "添加单个元素：s.add(a)，将a加入集合s   \n",
    "添加多个元素：s.update(seq), 将seq中元素都加入集合s  \n",
    "移除单个元素：s.remove(b), 将b从集合s中移除，没有即报错  "
   ]
  },
  {
   "cell_type": "code",
   "execution_count": 10,
   "metadata": {},
   "outputs": [
    {
     "name": "stdout",
     "output_type": "stream",
     "text": [
      "{1, 2, 3}\n",
      "{1, 2, 3, 4, 5}\n",
      "{1, 2, 4, 5}\n"
     ]
    }
   ],
   "source": [
    "s = {1,2}\n",
    "s.add(3)\n",
    "print(s)\n",
    "s.update([4,5])\n",
    "print(s)\n",
    "s.remove(3)\n",
    "print(s)"
   ]
  }
 ],
 "metadata": {
  "interpreter": {
   "hash": "0121bc4c82d0c9b8264309722526028599ed68632474f145c41bfc4cb3fa3996"
  },
  "kernelspec": {
   "display_name": "Python 3.9.7 ('base')",
   "language": "python",
   "name": "python3"
  },
  "language_info": {
   "codemirror_mode": {
    "name": "ipython",
    "version": 3
   },
   "file_extension": ".py",
   "mimetype": "text/x-python",
   "name": "python",
   "nbconvert_exporter": "python",
   "pygments_lexer": "ipython3",
   "version": "3.7.8"
  },
  "orig_nbformat": 4
 },
 "nbformat": 4,
 "nbformat_minor": 2
}
