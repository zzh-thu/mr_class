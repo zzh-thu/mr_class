{
 "cells": [
  {
   "cell_type": "markdown",
   "id": "a35ee5ab",
   "metadata": {},
   "source": [
    "# Tensor的基本操作"
   ]
  },
  {
   "cell_type": "markdown",
   "id": "d7c994d7",
   "metadata": {},
   "source": [
    "## 算术操作"
   ]
  },
  {
   "cell_type": "markdown",
   "id": "483fee4f",
   "metadata": {},
   "source": [
    "在PyTorch中，同一种操作可能有很多种形式，下面用加法作为例子。"
   ]
  },
  {
   "cell_type": "code",
   "execution_count": 1,
   "id": "2a085aa6",
   "metadata": {},
   "outputs": [
    {
     "name": "stdout",
     "output_type": "stream",
     "text": [
      "tensor([[0.2920, 0.9187, 0.5465],\n",
      "        [0.8588, 0.5609, 1.6790],\n",
      "        [0.6618, 1.2261, 0.7827],\n",
      "        [0.7373, 0.8956, 0.5042],\n",
      "        [1.6560, 0.7342, 0.4946]])\n",
      "tensor([[0.2920, 0.9187, 0.5465],\n",
      "        [0.8588, 0.5609, 1.6790],\n",
      "        [0.6618, 1.2261, 0.7827],\n",
      "        [0.7373, 0.8956, 0.5042],\n",
      "        [1.6560, 0.7342, 0.4946]])\n",
      "tensor([[0.2920, 0.9187, 0.5465],\n",
      "        [0.8588, 0.5609, 1.6790],\n",
      "        [0.6618, 1.2261, 0.7827],\n",
      "        [0.7373, 0.8956, 0.5042],\n",
      "        [1.6560, 0.7342, 0.4946]])\n"
     ]
    }
   ],
   "source": [
    "import torch\n",
    "# 加法形式1\n",
    "x = torch.rand(5, 3)\n",
    "y = torch.rand(5, 3)\n",
    "print(x + y)\n",
    "\n",
    "# 加法形式2\n",
    "print(torch.add(x, y))\n",
    "\n",
    "# 加法形式3\n",
    "# adds x to y\n",
    "y.add_(x)\n",
    "print(y)"
   ]
  },
  {
   "cell_type": "markdown",
   "id": "289b1b63",
   "metadata": {},
   "source": [
    "> 注：PyTorch操作inplace版本都有后缀_, 例如x.copy_(y), x.t_()"
   ]
  },
  {
   "cell_type": "markdown",
   "id": "ed08b9ab",
   "metadata": {},
   "source": [
    "## 索引"
   ]
  },
  {
   "cell_type": "markdown",
   "id": "c7cdefe4",
   "metadata": {},
   "source": [
    "我们还可以使用类似NumPy的索引操作来访问Tensor的一部分，需要注意的是：索引出来的结果与原数据共享内存，也即修改一个，另一个会跟着修改。"
   ]
  },
  {
   "cell_type": "code",
   "execution_count": 2,
   "id": "ba7e1de2",
   "metadata": {},
   "outputs": [
    {
     "name": "stdout",
     "output_type": "stream",
     "text": [
      "tensor([1.2380, 1.2546, 1.1699])\n",
      "tensor([1.2380, 1.2546, 1.1699])\n"
     ]
    }
   ],
   "source": [
    "y = x[0, :]\n",
    "y += 1\n",
    "print(y)\n",
    "print(x[0, :]) # 源tensor也被改了"
   ]
  },
  {
   "cell_type": "markdown",
   "id": "8b0cdcc6",
   "metadata": {},
   "source": [
    "除了常用的索引选择数据之外，PyTorch还提供了一些高级的选择函数:"
   ]
  },
  {
   "cell_type": "markdown",
   "id": "f62d68e9",
   "metadata": {},
   "source": [
    "|函数\t|功能|\n",
    "|--|--|\n",
    "|index_select(input, dim, index)\t|在指定维度dim上选取，比如选取某些行、某些列|\n",
    "|masked_select(input, mask)\t|例子如上，a[a>0]，使用ByteTensor进行选取|\n",
    "|nonzero(input)\t|非0元素的下标|\n",
    "|gather(input, dim, index)\t|根据index，在dim维度上选取数据，输出的size与index一样|"
   ]
  },
  {
   "cell_type": "markdown",
   "id": "1bf20fa0",
   "metadata": {},
   "source": [
    "更多操作可参阅:https://pytorch.org/docs/stable/tensors.html?highlight=tensor#torch.Tensor"
   ]
  },
  {
   "cell_type": "markdown",
   "id": "d845ce78",
   "metadata": {},
   "source": [
    "## 改变形状"
   ]
  },
  {
   "cell_type": "markdown",
   "id": "30b56c83",
   "metadata": {},
   "source": [
    "用view()来改变Tensor的形状："
   ]
  },
  {
   "cell_type": "code",
   "execution_count": 3,
   "id": "15f55ea9",
   "metadata": {},
   "outputs": [
    {
     "name": "stdout",
     "output_type": "stream",
     "text": [
      "torch.Size([5, 3]) torch.Size([15]) torch.Size([3, 5])\n"
     ]
    }
   ],
   "source": [
    "y = x.view(15)\n",
    "z = x.view(-1, 5)  # -1所指的维度可以根据其他维度的值推出来\n",
    "print(x.size(), y.size(), z.size())"
   ]
  },
  {
   "cell_type": "markdown",
   "id": "067a14d2",
   "metadata": {},
   "source": [
    "注意view()返回的新Tensor与源Tensor虽然可能有不同的size，但是是共享data的，也即更改其中的一个，另外一个也会跟着改变。(顾名思义，view仅仅是改变了对这个张量的观察角度，内部数据并未改变)"
   ]
  },
  {
   "cell_type": "code",
   "execution_count": 4,
   "id": "af93c7e9",
   "metadata": {},
   "outputs": [
    {
     "name": "stdout",
     "output_type": "stream",
     "text": [
      "tensor([[2.2380, 2.2546, 2.1699],\n",
      "        [1.8353, 1.0111, 1.8369],\n",
      "        [1.6252, 1.3025, 1.4373],\n",
      "        [1.0699, 1.8489, 1.0358],\n",
      "        [1.9720, 1.5125, 1.1718]])\n",
      "tensor([2.2380, 2.2546, 2.1699, 1.8353, 1.0111, 1.8369, 1.6252, 1.3025, 1.4373,\n",
      "        1.0699, 1.8489, 1.0358, 1.9720, 1.5125, 1.1718])\n"
     ]
    }
   ],
   "source": [
    "x += 1\n",
    "print(x)\n",
    "print(y) # 也加了1"
   ]
  },
  {
   "cell_type": "markdown",
   "id": "cd21f40d",
   "metadata": {},
   "source": [
    "所以如果我们想返回一个真正新的副本（即不共享data内存）该怎么办呢？Pytorch还提供了一个reshape()可以改变形状，但是此函数并不能保证返回的是其拷贝，所以不推荐使用。推荐先用clone创造一个副本然后再使用view。"
   ]
  },
  {
   "cell_type": "code",
   "execution_count": 5,
   "id": "47414ac8",
   "metadata": {},
   "outputs": [
    {
     "name": "stdout",
     "output_type": "stream",
     "text": [
      "tensor([[1.2380, 1.2546, 1.1699],\n",
      "        [0.8353, 0.0111, 0.8369],\n",
      "        [0.6252, 0.3025, 0.4373],\n",
      "        [0.0699, 0.8489, 0.0358],\n",
      "        [0.9720, 0.5125, 0.1718]])\n",
      "tensor([2.2380, 2.2546, 2.1699, 1.8353, 1.0111, 1.8369, 1.6252, 1.3025, 1.4373,\n",
      "        1.0699, 1.8489, 1.0358, 1.9720, 1.5125, 1.1718])\n"
     ]
    }
   ],
   "source": [
    "x_cp = x.clone().view(15)\n",
    "x -= 1\n",
    "print(x)\n",
    "print(x_cp)"
   ]
  },
  {
   "cell_type": "markdown",
   "id": "7fb4517e",
   "metadata": {},
   "source": [
    "另外一个常用的函数就是item(), 它可以将一个标量Tensor转换成一个Python number："
   ]
  },
  {
   "cell_type": "code",
   "execution_count": 6,
   "id": "4ff06b0e",
   "metadata": {},
   "outputs": [
    {
     "name": "stdout",
     "output_type": "stream",
     "text": [
      "tensor([-0.5278])\n",
      "-0.5278484225273132\n"
     ]
    }
   ],
   "source": [
    "x = torch.randn(1)\n",
    "print(x)\n",
    "print(x.item())"
   ]
  },
  {
   "cell_type": "markdown",
   "id": "45ef975f",
   "metadata": {},
   "source": [
    "## 线性代数"
   ]
  },
  {
   "cell_type": "markdown",
   "id": "fad61d8f",
   "metadata": {},
   "source": [
    "另外，PyTorch还支持一些线性函数，这里提一下，免得用起来的时候自己造轮子，具体用法参考官方文档。如下表所示："
   ]
  },
  {
   "cell_type": "markdown",
   "id": "05fdd29f",
   "metadata": {},
   "source": [
    "|函数\t|功能|\n",
    "|--|--|\n",
    "|trace\t|对角线元素之和(矩阵的迹)|\n",
    "|diag\t|对角线元素|\n",
    "|triu/tril\t|矩阵的上三角/下三角，可指定偏移量|\n",
    "|mm/bmm\t|矩阵乘法，batch的矩阵乘法|\n",
    "|addmm/addbmm/addmv/addr/baddbmm..\t|矩阵运算|\n",
    "|t\t|转置|\n",
    "|dot/cross\t|内积/外积|\n",
    "|inverse\t|求逆矩阵|\n",
    "|svd\t|奇异值分解|"
   ]
  },
  {
   "cell_type": "markdown",
   "id": "2d0794f7",
   "metadata": {},
   "source": [
    "这里列举一些常见的操作:"
   ]
  },
  {
   "cell_type": "markdown",
   "id": "0b425c7d",
   "metadata": {},
   "source": [
    "* 对Tensor求和/取平均"
   ]
  },
  {
   "cell_type": "code",
   "execution_count": 7,
   "id": "4cfff3dd",
   "metadata": {},
   "outputs": [
    {
     "name": "stdout",
     "output_type": "stream",
     "text": [
      "tensor([[1., 1., 1.],\n",
      "        [1., 1., 1.]])\n",
      "tensor(6.)\n",
      "tensor([2., 2., 2.])\n",
      "tensor([3., 3.])\n",
      "tensor(1.)\n",
      "tensor([1., 1., 1.])\n",
      "tensor([1., 1.])\n"
     ]
    }
   ],
   "source": [
    "x = torch.ones(2, 3)\n",
    "print(x)\n",
    "\n",
    "print(x.sum())\n",
    "print(x.sum(dim=0))\n",
    "print(x.sum(dim=1))\n",
    "\n",
    "print(x.mean())\n",
    "print(x.mean(0))\n",
    "print(x.mean(1))"
   ]
  },
  {
   "cell_type": "markdown",
   "id": "03c9d5fc",
   "metadata": {},
   "source": [
    "* 逐元素计算指数、对数"
   ]
  },
  {
   "cell_type": "code",
   "execution_count": 8,
   "id": "25f4ff1d",
   "metadata": {},
   "outputs": [
    {
     "name": "stdout",
     "output_type": "stream",
     "text": [
      "tensor([1., 2.])\n",
      "tensor([2.7183, 7.3891])\n",
      "tensor([0.0000, 0.6931])\n"
     ]
    }
   ],
   "source": [
    "x = torch.tensor([1, 2.])\n",
    "print(x)\n",
    "print(torch.exp(x))\n",
    "print(torch.log(x))"
   ]
  },
  {
   "cell_type": "markdown",
   "id": "baa0a499",
   "metadata": {},
   "source": [
    "* 逐元素乘积"
   ]
  },
  {
   "cell_type": "code",
   "execution_count": 9,
   "id": "b6b4fc52",
   "metadata": {},
   "outputs": [
    {
     "name": "stdout",
     "output_type": "stream",
     "text": [
      "tensor([[1., 0.],\n",
      "        [0., 1.]])\n",
      "tensor([[1., 1.],\n",
      "        [1., 1.]])\n",
      "tensor([[1., 0.],\n",
      "        [0., 1.]])\n"
     ]
    }
   ],
   "source": [
    "x = torch.eye(2)\n",
    "y = torch.ones(2, 2)\n",
    "print(x)\n",
    "print(y)\n",
    "print(x*y)"
   ]
  },
  {
   "cell_type": "markdown",
   "id": "2f939126",
   "metadata": {},
   "source": [
    "* 矩阵乘法"
   ]
  },
  {
   "cell_type": "code",
   "execution_count": 10,
   "id": "3f30492d",
   "metadata": {},
   "outputs": [
    {
     "data": {
      "text/plain": [
       "tensor([[1., 1.],\n",
       "        [1., 1.]])"
      ]
     },
     "execution_count": 10,
     "metadata": {},
     "output_type": "execute_result"
    }
   ],
   "source": [
    "torch.matmul(x, y)"
   ]
  },
  {
   "cell_type": "markdown",
   "id": "c8e5f0e1",
   "metadata": {},
   "source": [
    "PyTorch中的Tensor支持超过一百种操作，包括转置、索引、切片、数学运算、线性代数、随机数等等，可参考[官方文档](https://pytorch.org/docs/stable/tensors.html)。"
   ]
  }
 ],
 "metadata": {
  "kernelspec": {
   "display_name": "Python [conda env:nikelong] *",
   "language": "python",
   "name": "conda-env-nikelong-py"
  },
  "language_info": {
   "codemirror_mode": {
    "name": "ipython",
    "version": 3
   },
   "file_extension": ".py",
   "mimetype": "text/x-python",
   "name": "python",
   "nbconvert_exporter": "python",
   "pygments_lexer": "ipython3",
   "version": "3.7.0"
  }
 },
 "nbformat": 4,
 "nbformat_minor": 5
}
