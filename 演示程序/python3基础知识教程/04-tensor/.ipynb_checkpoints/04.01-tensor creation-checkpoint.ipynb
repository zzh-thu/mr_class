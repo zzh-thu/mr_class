{
 "cells": [
  {
   "cell_type": "markdown",
   "id": "8cbf65e1",
   "metadata": {},
   "source": [
    "# Tensor基础:创建Tensor"
   ]
  },
  {
   "cell_type": "markdown",
   "id": "44e5be21",
   "metadata": {},
   "source": [
    "\"tensor\"这个单词一般可译作“张量”，张量可以看作是一个多维数组。标量可以看作是0维张量，向量可以看作1维张量，矩阵可以看作是二维张量。\n",
    "例如，[1,2]是2维的Tensor， [[1,2]]是1×2维度的Tensor， [[1],[2]]是2×1维度Tensor。\n"
   ]
  },
  {
   "cell_type": "markdown",
   "id": "c7732a17",
   "metadata": {},
   "source": [
    "首先导入PyTorch："
   ]
  },
  {
   "cell_type": "code",
   "execution_count": 1,
   "id": "94578e9c",
   "metadata": {},
   "outputs": [],
   "source": [
    "import torch"
   ]
  },
  {
   "cell_type": "markdown",
   "id": "f9cec33f",
   "metadata": {},
   "source": [
    "然后我们创建一个5x3的未初始化的Tensor："
   ]
  },
  {
   "cell_type": "code",
   "execution_count": 2,
   "id": "ddb2362d",
   "metadata": {},
   "outputs": [
    {
     "name": "stdout",
     "output_type": "stream",
     "text": [
      "tensor([[9.1837e-39, 8.4490e-39, 1.0102e-38],\n",
      "        [1.0561e-38, 1.0102e-38, 9.8265e-39],\n",
      "        [9.9184e-39, 1.0102e-38, 8.4490e-39],\n",
      "        [9.6429e-39, 8.4490e-39, 9.6429e-39],\n",
      "        [9.2755e-39, 1.0286e-38, 9.0919e-39]])\n"
     ]
    }
   ],
   "source": [
    "x = torch.empty(5, 3)\n",
    "print(x)"
   ]
  },
  {
   "cell_type": "markdown",
   "id": "9544364f",
   "metadata": {},
   "source": [
    "创建一个5x3的随机初始化的Tensor:"
   ]
  },
  {
   "cell_type": "code",
   "execution_count": 3,
   "id": "719857df",
   "metadata": {},
   "outputs": [
    {
     "name": "stdout",
     "output_type": "stream",
     "text": [
      "tensor([[0.6477, 0.9166, 0.8541],\n",
      "        [0.3156, 0.1753, 0.8438],\n",
      "        [0.5613, 0.3704, 0.9858],\n",
      "        [0.2867, 0.6620, 0.5966],\n",
      "        [0.0803, 0.7167, 0.1275]])\n"
     ]
    }
   ],
   "source": [
    "x = torch.rand(5, 3)\n",
    "print(x)"
   ]
  },
  {
   "cell_type": "markdown",
   "id": "d1e62ec0",
   "metadata": {},
   "source": [
    "创建一个5x3的long型全0的Tensor:"
   ]
  },
  {
   "cell_type": "code",
   "execution_count": 4,
   "id": "6ae09166",
   "metadata": {},
   "outputs": [
    {
     "name": "stdout",
     "output_type": "stream",
     "text": [
      "tensor([[0, 0, 0],\n",
      "        [0, 0, 0],\n",
      "        [0, 0, 0],\n",
      "        [0, 0, 0],\n",
      "        [0, 0, 0]])\n"
     ]
    }
   ],
   "source": [
    "x = torch.zeros(5, 3, dtype=torch.long)\n",
    "print(x)"
   ]
  },
  {
   "cell_type": "markdown",
   "id": "53f66777",
   "metadata": {},
   "source": [
    "还可以直接根据数据创建:"
   ]
  },
  {
   "cell_type": "code",
   "execution_count": 5,
   "id": "5d065eca",
   "metadata": {},
   "outputs": [
    {
     "name": "stdout",
     "output_type": "stream",
     "text": [
      "tensor([5.5000, 3.0000])\n"
     ]
    }
   ],
   "source": [
    "x = torch.tensor([5.5, 3])\n",
    "print(x)"
   ]
  },
  {
   "cell_type": "markdown",
   "id": "221df4b6",
   "metadata": {},
   "source": [
    "还可以通过现有的Tensor来创建，此方法会默认重用输入Tensor的一些属性，例如数据类型，除非自定义数据类型。"
   ]
  },
  {
   "cell_type": "code",
   "execution_count": 6,
   "id": "35cc1c62",
   "metadata": {},
   "outputs": [
    {
     "name": "stdout",
     "output_type": "stream",
     "text": [
      "tensor([[1., 1., 1.],\n",
      "        [1., 1., 1.],\n",
      "        [1., 1., 1.],\n",
      "        [1., 1., 1.],\n",
      "        [1., 1., 1.]], dtype=torch.float64)\n",
      "tensor([[-0.9875,  0.0720,  1.5349],\n",
      "        [-0.0859, -1.9695, -1.1591],\n",
      "        [-0.8717,  0.4842, -2.0181],\n",
      "        [ 1.3297, -0.1160,  1.5728],\n",
      "        [ 0.3842,  0.8738, -1.0790]])\n"
     ]
    }
   ],
   "source": [
    "x = x.new_ones(5, 3, dtype=torch.float64)  # 返回的tensor默认具有相同的torch.dtype和torch.device\n",
    "print(x)\n",
    "\n",
    "x = torch.randn_like(x, dtype=torch.float) # 指定新的数据类型\n",
    "print(x) "
   ]
  },
  {
   "cell_type": "markdown",
   "id": "0e6e131e",
   "metadata": {},
   "source": [
    "我们可以通过shape或者size()来获取Tensor的形状:"
   ]
  },
  {
   "cell_type": "code",
   "execution_count": 7,
   "id": "4734d109",
   "metadata": {},
   "outputs": [
    {
     "name": "stdout",
     "output_type": "stream",
     "text": [
      "torch.Size([5, 3])\n",
      "torch.Size([5, 3])\n"
     ]
    }
   ],
   "source": [
    "print(x.size())\n",
    "print(x.shape)"
   ]
  },
  {
   "cell_type": "markdown",
   "id": "011df3a9",
   "metadata": {},
   "source": [
    "还有很多函数可以创建Tensor，常见的有:"
   ]
  },
  {
   "cell_type": "markdown",
   "id": "73bf2d27",
   "metadata": {},
   "source": [
    "|函数\t|功能|\n",
    "|--|--|\n",
    "|Tensor(*sizes)\t|基础构造函数|\n",
    "|tensor(data,)\t|类似np.array的构造函数|\n",
    "|ones(*sizes)\t|全1Tensor|\n",
    "|zeros(*sizes)\t|全0Tensor|\n",
    "|eye(*sizes)\t|对角线为1，其他为0|\n",
    "|arange(s,e,step)\t|从s到e，步长为step|\n",
    "|linspace(s,e,steps)\t|从s到e，均匀切分成steps份|\n",
    "|rand/randn(*sizes)\t|均匀/标准分布|\n",
    "|normal(mean,std)/uniform(from,to)\t|正态分布/均匀分布|\n",
    "|randperm(m)\t|随机排列|"
   ]
  },
  {
   "cell_type": "markdown",
   "id": "1ae23a65",
   "metadata": {},
   "source": [
    "更多方式参考:https://pytorch.org/docs/stable/tensors.html?highlight=tensor#torch.Tensor"
   ]
  }
 ],
 "metadata": {
  "kernelspec": {
   "display_name": "Python [conda env:nikelong] *",
   "language": "python",
   "name": "conda-env-nikelong-py"
  },
  "language_info": {
   "codemirror_mode": {
    "name": "ipython",
    "version": 3
   },
   "file_extension": ".py",
   "mimetype": "text/x-python",
   "name": "python",
   "nbconvert_exporter": "python",
   "pygments_lexer": "ipython3",
   "version": "3.7.0"
  }
 },
 "nbformat": 4,
 "nbformat_minor": 5
}
